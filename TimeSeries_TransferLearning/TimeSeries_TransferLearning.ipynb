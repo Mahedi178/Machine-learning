{
 "cells": [
  {
   "cell_type": "code",
   "execution_count": 2,
   "id": "87cc70e5",
   "metadata": {
    "execution": {
     "iopub.execute_input": "2024-07-05T07:22:57.274439Z",
     "iopub.status.busy": "2024-07-05T07:22:57.273965Z",
     "iopub.status.idle": "2024-07-05T07:23:02.732067Z",
     "shell.execute_reply": "2024-07-05T07:23:02.730500Z"
    },
    "papermill": {
     "duration": 5.470867,
     "end_time": "2024-07-05T07:23:02.735527",
     "exception": false,
     "start_time": "2024-07-05T07:22:57.264660",
     "status": "completed"
    },
    "tags": []
   },
   "outputs": [],
   "source": [
    "import numpy as np\n",
    "import pandas as pd\n",
    "import matplotlib.pylab as plt\n",
    "from sklearn.base import clone\n",
    "from sklearn.linear_model import SGDRegressor\n",
    "from sklearn.metrics import mean_squared_error\n",
    "import lightgbm as lgb\n",
    "\n",
    "from tspiral.model_selection import TemporalSplit\n",
    "from tspiral.forecasting import ForecastingCascade\n",
    "\n",
    "from datasetsforecast.m3 import M3\n",
    "from datasetsforecast.m4 import M4"
   ]
  },
  {
   "cell_type": "code",
   "execution_count": 3,
   "id": "ebd35b32",
   "metadata": {
    "execution": {
     "iopub.execute_input": "2024-07-05T07:23:02.752868Z",
     "iopub.status.busy": "2024-07-05T07:23:02.752067Z",
     "iopub.status.idle": "2024-07-05T07:24:55.274878Z",
     "shell.execute_reply": "2024-07-05T07:24:55.273381Z"
    },
    "papermill": {
     "duration": 112.535016,
     "end_time": "2024-07-05T07:24:55.277897",
     "exception": false,
     "start_time": "2024-07-05T07:23:02.742881",
     "status": "completed"
    },
    "tags": []
   },
   "outputs": [
    {
     "name": "stderr",
     "output_type": "stream",
     "text": [
      "91.7MiB [00:02, 36.3MiB/s]\n",
      "7.94MiB [00:00, 31.4MiB/s]\n",
      "4.34MiB [00:00, 53.6MiB/s]                 \n",
      "100%|██████████| 3.56M/3.56M [00:00<00:00, 33.0MiB/s]\n",
      "100%|██████████| 1.76M/1.76M [00:00<00:00, 4.27MiB/s]\n",
      "/opt/conda/lib/python3.10/site-packages/datasetsforecast/m3.py:108: FutureWarning: 'M' is deprecated and will be removed in a future version, please use 'ME' instead.\n",
      "  freq = pd.tseries.frequencies.to_offset(class_group.freq)\n"
     ]
    },
    {
     "data": {
      "text/plain": [
       "((167562, 3), (11246411, 3))"
      ]
     },
     "execution_count": 3,
     "metadata": {},
     "output_type": "execute_result"
    }
   ],
   "source": [
    "### LOAD M3 AND M4 DATASETS ###\n",
    "\n",
    "df_m4, _, _ = M4.load(directory='./', group='Monthly')\n",
    "df_m3, _, _ = M3.load(directory='./', group='Monthly')\n",
    "\n",
    "df_m4['unique_id'] = df_m4['unique_id'].factorize()[0]\n",
    "df_m3['unique_id'] = df_m3['unique_id'].factorize()[0]\n",
    "\n",
    "df_m3.shape, df_m4.shape"
   ]
  },
  {
   "cell_type": "code",
   "execution_count": 4,
   "id": "c71c82c3",
   "metadata": {
    "execution": {
     "iopub.execute_input": "2024-07-05T07:24:55.303651Z",
     "iopub.status.busy": "2024-07-05T07:24:55.303177Z",
     "iopub.status.idle": "2024-07-05T07:26:43.595439Z",
     "shell.execute_reply": "2024-07-05T07:26:43.593521Z"
    },
    "papermill": {
     "duration": 108.309115,
     "end_time": "2024-07-05T07:26:43.598955",
     "exception": false,
     "start_time": "2024-07-05T07:24:55.289840",
     "status": "completed"
    },
    "tags": []
   },
   "outputs": [],
   "source": [
    "### INSTANTIATE MODELS AND FIT ###\n",
    "\n",
    "sgd = ForecastingCascade(\n",
    "    SGDRegressor(random_state=42),\n",
    "    lags=range(1,12+1),\n",
    "    groups=[0],\n",
    "    target_standardize=True,\n",
    ").fit(df_m4[['unique_id']], df_m4['y'])\n",
    "\n",
    "lgbm = ForecastingCascade(\n",
    "    lgb.LGBMRegressor(random_state=42, n_jobs=-1, verbose=0),\n",
    "    lags=range(1,12+1),\n",
    "    groups=[0],\n",
    "    target_standardize=True,\n",
    ").fit(df_m4[['unique_id']], df_m4['y'])"
   ]
  },
  {
   "cell_type": "code",
   "execution_count": 5,
   "id": "0a0c2590",
   "metadata": {
    "execution": {
     "iopub.execute_input": "2024-07-05T07:26:43.625216Z",
     "iopub.status.busy": "2024-07-05T07:26:43.624688Z",
     "iopub.status.idle": "2024-07-05T07:29:07.997483Z",
     "shell.execute_reply": "2024-07-05T07:29:07.995858Z"
    },
    "papermill": {
     "duration": 144.400327,
     "end_time": "2024-07-05T07:29:08.011145",
     "exception": false,
     "start_time": "2024-07-05T07:26:43.610818",
     "status": "completed"
    },
    "tags": []
   },
   "outputs": [
    {
     "data": {
      "text/plain": [
       "(67116, 11)"
      ]
     },
     "execution_count": 5,
     "metadata": {},
     "output_type": "execute_result"
    }
   ],
   "source": [
    "### MAKE ROLLING FORECASTING AND STORE PREDICTIONS ###\n",
    "\n",
    "CV = TemporalSplit(4, test_size=12, gap=12)\n",
    "\n",
    "\n",
    "preds = []\n",
    "for i, (train_id, test_id) in enumerate(CV.split(df_m3['y'], None, df_m3['unique_id'])):\n",
    "    \n",
    "    preds.append(\n",
    "        df_m3.iloc[test_id].assign(\n",
    "            cv_fold=i+1,\n",
    "            lgbm_specific=clone(lgbm).fit(\n",
    "                df_m3[['unique_id']].iloc[train_id], \n",
    "                df_m3['y'].iloc[train_id]\n",
    "            ).predict(\n",
    "                X=df_m3[['unique_id']].iloc[test_id],\n",
    "                last_X=df_m3[['unique_id']].iloc[train_id],\n",
    "                last_y=df_m3['y'].iloc[train_id],\n",
    "            ),\n",
    "            lgbm_general=lgbm.predict(\n",
    "                X=df_m3[['unique_id']].iloc[test_id],\n",
    "                last_X=df_m3[['unique_id']].iloc[train_id],\n",
    "                last_y=df_m3['y'].iloc[train_id],\n",
    "            ),\n",
    "            sgd_specific=clone(sgd).fit(\n",
    "                df_m3[['unique_id']].iloc[train_id], \n",
    "                df_m3['y'].iloc[train_id]\n",
    "            ).predict(\n",
    "                X=df_m3[['unique_id']].iloc[test_id],\n",
    "                last_X=df_m3[['unique_id']].iloc[train_id],\n",
    "                last_y=df_m3['y'].iloc[train_id],\n",
    "            ),\n",
    "            sgd_general=sgd.predict(\n",
    "                X=df_m3[['unique_id']].iloc[test_id],\n",
    "                last_X=df_m3[['unique_id']].iloc[train_id],\n",
    "                last_y=df_m3['y'].iloc[train_id],\n",
    "            )\n",
    "        ).merge(\n",
    "            df_m3.iloc[train_id].groupby('unique_id').tail(12) \\\n",
    "                .groupby('unique_id', as_index=False)[['y']].mean(),\n",
    "            on='unique_id', how='left', suffixes=('', 'dummy_mean')\n",
    "        ).merge(\n",
    "            df_m3.iloc[train_id].groupby('unique_id').tail(12) \\\n",
    "                .assign(ds=lambda x: x['ds']+pd.DateOffset(months=12)),\n",
    "            on=['ds','unique_id'], how='left', suffixes=('', 'dummy_season_repeat')\n",
    "        ).merge(\n",
    "            df_m3.iloc[train_id].groupby('unique_id', as_index=False).last() \\\n",
    "                .drop(columns=['ds']),\n",
    "            on=['unique_id'], how='left', suffixes=('', 'dummy_repeat')\n",
    "        )\n",
    "    )\n",
    "    \n",
    "    \n",
    "preds = pd.concat(preds, axis=0, ignore_index=True).dropna()\n",
    "preds.shape"
   ]
  },
  {
   "cell_type": "code",
   "execution_count": 6,
   "id": "08799042",
   "metadata": {
    "execution": {
     "iopub.execute_input": "2024-07-05T07:29:08.037210Z",
     "iopub.status.busy": "2024-07-05T07:29:08.036628Z",
     "iopub.status.idle": "2024-07-05T07:29:08.124041Z",
     "shell.execute_reply": "2024-07-05T07:29:08.122332Z"
    },
    "papermill": {
     "duration": 0.104604,
     "end_time": "2024-07-05T07:29:08.127062",
     "exception": false,
     "start_time": "2024-07-05T07:29:08.022458",
     "status": "completed"
    },
    "tags": []
   },
   "outputs": [
    {
     "data": {
      "text/html": [
       "<div>\n",
       "<style scoped>\n",
       "    .dataframe tbody tr th:only-of-type {\n",
       "        vertical-align: middle;\n",
       "    }\n",
       "\n",
       "    .dataframe tbody tr th {\n",
       "        vertical-align: top;\n",
       "    }\n",
       "\n",
       "    .dataframe thead th {\n",
       "        text-align: right;\n",
       "    }\n",
       "</style>\n",
       "<table border=\"1\" class=\"dataframe\">\n",
       "  <thead>\n",
       "    <tr style=\"text-align: right;\">\n",
       "      <th></th>\n",
       "      <th>ydummy_season_repeat</th>\n",
       "      <th>ydummy_repeat</th>\n",
       "      <th>lgbm_general</th>\n",
       "      <th>ydummy_mean</th>\n",
       "      <th>lgbm_specific</th>\n",
       "      <th>sgd_specific</th>\n",
       "      <th>sgd_general</th>\n",
       "    </tr>\n",
       "    <tr>\n",
       "      <th>cv_fold</th>\n",
       "      <th></th>\n",
       "      <th></th>\n",
       "      <th></th>\n",
       "      <th></th>\n",
       "      <th></th>\n",
       "      <th></th>\n",
       "      <th></th>\n",
       "    </tr>\n",
       "  </thead>\n",
       "  <tbody>\n",
       "    <tr>\n",
       "      <th>1</th>\n",
       "      <td>1483.617058</td>\n",
       "      <td>1609.601274</td>\n",
       "      <td>1305.379854</td>\n",
       "      <td>1347.652872</td>\n",
       "      <td>1373.406338</td>\n",
       "      <td>1346.376614</td>\n",
       "      <td>1320.419168</td>\n",
       "    </tr>\n",
       "    <tr>\n",
       "      <th>2</th>\n",
       "      <td>1420.007938</td>\n",
       "      <td>1600.511056</td>\n",
       "      <td>1309.212787</td>\n",
       "      <td>1390.613613</td>\n",
       "      <td>1367.405487</td>\n",
       "      <td>1325.857992</td>\n",
       "      <td>1284.701665</td>\n",
       "    </tr>\n",
       "    <tr>\n",
       "      <th>3</th>\n",
       "      <td>1287.092985</td>\n",
       "      <td>1485.756749</td>\n",
       "      <td>1140.297097</td>\n",
       "      <td>1240.782918</td>\n",
       "      <td>1201.602438</td>\n",
       "      <td>1185.326402</td>\n",
       "      <td>1178.325751</td>\n",
       "    </tr>\n",
       "    <tr>\n",
       "      <th>4</th>\n",
       "      <td>1342.508899</td>\n",
       "      <td>1548.844135</td>\n",
       "      <td>1220.852711</td>\n",
       "      <td>1301.568892</td>\n",
       "      <td>1228.548700</td>\n",
       "      <td>1236.369017</td>\n",
       "      <td>1250.711488</td>\n",
       "    </tr>\n",
       "  </tbody>\n",
       "</table>\n",
       "</div>"
      ],
      "text/plain": [
       "         ydummy_season_repeat  ydummy_repeat  lgbm_general  ydummy_mean  \\\n",
       "cv_fold                                                                   \n",
       "1                 1483.617058    1609.601274   1305.379854  1347.652872   \n",
       "2                 1420.007938    1600.511056   1309.212787  1390.613613   \n",
       "3                 1287.092985    1485.756749   1140.297097  1240.782918   \n",
       "4                 1342.508899    1548.844135   1220.852711  1301.568892   \n",
       "\n",
       "         lgbm_specific  sgd_specific  sgd_general  \n",
       "cv_fold                                            \n",
       "1          1373.406338   1346.376614  1320.419168  \n",
       "2          1367.405487   1325.857992  1284.701665  \n",
       "3          1201.602438   1185.326402  1178.325751  \n",
       "4          1228.548700   1236.369017  1250.711488  "
      ]
     },
     "execution_count": 6,
     "metadata": {},
     "output_type": "execute_result"
    }
   ],
   "source": [
    "### CREATE SCORES DATAFRAMES ###\n",
    "\n",
    "df_scores = pd.concat([\n",
    "    preds.groupby('cv_fold')[['y',c]].apply(\n",
    "        lambda x: mean_squared_error(x['y'], x[c], squared=False)\n",
    "    ).to_frame(name=c)\n",
    "    for c in set(preds.columns).difference(set(df_m3.columns))\n",
    "    if c != 'cv_fold'\n",
    "], axis=1, ignore_index=False)\n",
    "\n",
    "df_scores"
   ]
  },
  {
   "cell_type": "code",
   "execution_count": 7,
   "id": "0b349e3f",
   "metadata": {
    "execution": {
     "iopub.execute_input": "2024-07-05T07:29:08.154117Z",
     "iopub.status.busy": "2024-07-05T07:29:08.153551Z",
     "iopub.status.idle": "2024-07-05T07:29:08.182755Z",
     "shell.execute_reply": "2024-07-05T07:29:08.181450Z"
    },
    "papermill": {
     "duration": 0.044985,
     "end_time": "2024-07-05T07:29:08.185287",
     "exception": false,
     "start_time": "2024-07-05T07:29:08.140302",
     "status": "completed"
    },
    "tags": []
   },
   "outputs": [
    {
     "data": {
      "text/html": [
       "<div>\n",
       "<style scoped>\n",
       "    .dataframe tbody tr th:only-of-type {\n",
       "        vertical-align: middle;\n",
       "    }\n",
       "\n",
       "    .dataframe tbody tr th {\n",
       "        vertical-align: top;\n",
       "    }\n",
       "\n",
       "    .dataframe thead th {\n",
       "        text-align: right;\n",
       "    }\n",
       "</style>\n",
       "<table border=\"1\" class=\"dataframe\">\n",
       "  <thead>\n",
       "    <tr style=\"text-align: right;\">\n",
       "      <th></th>\n",
       "      <th>lgbm_general</th>\n",
       "      <th>sgd_general</th>\n",
       "      <th>sgd_specific</th>\n",
       "      <th>lgbm_specific</th>\n",
       "      <th>ydummy_mean</th>\n",
       "      <th>ydummy_season_repeat</th>\n",
       "      <th>ydummy_repeat</th>\n",
       "    </tr>\n",
       "  </thead>\n",
       "  <tbody>\n",
       "    <tr>\n",
       "      <th>mean</th>\n",
       "      <td>1243.935612</td>\n",
       "      <td>1258.539518</td>\n",
       "      <td>1273.482506</td>\n",
       "      <td>1292.740741</td>\n",
       "      <td>1320.154574</td>\n",
       "      <td>1383.306720</td>\n",
       "      <td>1561.178304</td>\n",
       "    </tr>\n",
       "    <tr>\n",
       "      <th>std</th>\n",
       "      <td>80.229393</td>\n",
       "      <td>60.577981</td>\n",
       "      <td>75.731218</td>\n",
       "      <td>90.385418</td>\n",
       "      <td>64.202596</td>\n",
       "      <td>86.276084</td>\n",
       "      <td>56.957271</td>\n",
       "    </tr>\n",
       "  </tbody>\n",
       "</table>\n",
       "</div>"
      ],
      "text/plain": [
       "      lgbm_general  sgd_general  sgd_specific  lgbm_specific  ydummy_mean  \\\n",
       "mean   1243.935612  1258.539518   1273.482506    1292.740741  1320.154574   \n",
       "std      80.229393    60.577981     75.731218      90.385418    64.202596   \n",
       "\n",
       "      ydummy_season_repeat  ydummy_repeat  \n",
       "mean           1383.306720    1561.178304  \n",
       "std              86.276084      56.957271  "
      ]
     },
     "execution_count": 7,
     "metadata": {},
     "output_type": "execute_result"
    }
   ],
   "source": [
    "### GET STATISTICS FROM SCORES DATAFRAME ###\n",
    "\n",
    "scores = df_scores.agg(['mean','std']).T.sort_values(by=['mean']).T\n",
    "\n",
    "scores"
   ]
  },
  {
   "cell_type": "code",
   "execution_count": 8,
   "id": "b9d44d98",
   "metadata": {
    "execution": {
     "iopub.execute_input": "2024-07-05T07:29:08.214102Z",
     "iopub.status.busy": "2024-07-05T07:29:08.213540Z",
     "iopub.status.idle": "2024-07-05T07:29:08.661071Z",
     "shell.execute_reply": "2024-07-05T07:29:08.659791Z"
    },
    "papermill": {
     "duration": 0.465896,
     "end_time": "2024-07-05T07:29:08.664026",
     "exception": false,
     "start_time": "2024-07-05T07:29:08.198130",
     "status": "completed"
    },
    "tags": []
   },
   "outputs": [
    {
     "data": {
      "image/png": "[encoded data removed]",
      "text/plain": [
       "<Figure size 640x480 with 1 Axes>"
      ]
     },
     "metadata": {},
     "output_type": "display_data"
    }
   ],
   "source": [
    "### PLOT SCORES ###\n",
    "\n",
    "_ = scores.loc['mean'].plot.bar(yerr=scores.loc['std'], rot=45, ylabel='RMSE')"
   ]
  }
 ],
 "metadata": {
  "kaggle": {
   "accelerator": "none",
   "dataSources": [],
   "dockerImageVersionId": 30732,
   "isGpuEnabled": false,
   "isInternetEnabled": true,
   "language": "python",
   "sourceType": "notebook"
  },
  "kernelspec": {
   "display_name": "Python 3 (ipykernel)",
   "language": "python",
   "name": "python3"
  },
  "language_info": {
   "codemirror_mode": {
    "name": "ipython",
    "version": 3
   },
   "file_extension": ".py",
   "mimetype": "text/x-python",
   "name": "python",
   "nbconvert_exporter": "python",
   "pygments_lexer": "ipython3",
   "version": "3.11.3"
  },
  "papermill": {
   "default_parameters": {},
   "duration": 398.410411,
   "end_time": "2024-07-05T07:29:10.308544",
   "environment_variables": {},
   "exception": null,
   "input_path": "__notebook__.ipynb",
   "output_path": "__notebook__.ipynb",
   "parameters": {},
   "start_time": "2024-07-05T07:22:31.898133",
   "version": "2.5.0"
  }
 },
 "nbformat": 4,
 "nbformat_minor": 5
}
